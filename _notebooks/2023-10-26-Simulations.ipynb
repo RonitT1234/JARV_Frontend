{
 "cells": [
  {
   "cell_type": "markdown",
   "metadata": {},
   "source": [
    "---\n",
    "comments: true\n",
    "layout: post\n",
    "title: Simulations - Student Teach\n",
    "description: Student Lesson\n",
    "type: hacks\n",
    "courses: { compsci: {week: 8} }\n",
    "---"
   ]
  },
  {
   "cell_type": "markdown",
   "metadata": {},
   "source": [
    "## Simulations \n",
    "What is a simulation? A simulation is the use of a computer software to represent the dynamic responses of one system by the behaviour of another system modeled after it. A simulation uses a mathematical descriptions, or models, of a real system in the form of a computer program."
   ]
  },
  {
   "cell_type": "markdown",
   "metadata": {},
   "source": [
    "![ghj](https://www.simscale.com/wp-content/uploads/2022/11/dron-quadcopter-simulation.png)"
   ]
  },
  {
   "cell_type": "markdown",
   "metadata": {},
   "source": [
    "## College Board Essential Knowledge\n",
    "- Simulations can contain bias from real world elements, that were chosen to be included or excluded\n",
    "- Simulations work best when the real world experemnts are too impractical or time consuming. For example, simulating how different cars behave when they crash, would be much better than crashng actual cars in the real world, which would be expensive and dangerous.\n",
    "- "
   ]
  },
  {
   "cell_type": "markdown",
   "metadata": {},
   "source": [
    "## Algorithms\n",
    "Simulations utilize algorithms and equations to serve a usful purpose"
   ]
  },
  {
   "cell_type": "markdown",
   "metadata": {},
   "source": [
    "## Random Number Generators (RNG)\n",
    "Random Number Generators are very useful for creating simulations, as they can simulate the randomness in the universe. In python there is a built-in function, random, that allows us to create a random number generator. Here is code for a random number generator, that will randomly choose a number 1-100"
   ]
  },
  {
   "cell_type": "code",
   "execution_count": 4,
   "metadata": {},
   "outputs": [
    {
     "name": "stdout",
     "output_type": "stream",
     "text": [
      "65\n"
     ]
    }
   ],
   "source": [
    "import random\n",
    "\n",
    "random_number = random.randint(1, 100)\n",
    "\n",
    "print(random_number)"
   ]
  },
  {
   "cell_type": "markdown",
   "metadata": {},
   "source": [
    "## Simple example of a Coin Toss Simulation"
   ]
  },
  {
   "cell_type": "code",
   "execution_count": 2,
   "metadata": {},
   "outputs": [
    {
     "name": "stdout",
     "output_type": "stream",
     "text": [
      "Number of Heads: 511\n",
      "Number of Tails: 489\n",
      "Heads Probability: 51.10%\n",
      "Tails Probability: 48.90%\n"
     ]
    }
   ],
   "source": [
    "import random\n",
    "def flip_coin():\n",
    "    return random.choice([\"Heads\", \"Tails\"])\n",
    "def coin_flip_simulation(num_flips):\n",
    "    heads_count = 0\n",
    "    tails_count = 0\n",
    "    for _ in range(num_flips):\n",
    "        result = flip_coin()\n",
    "        if result == \"Heads\":\n",
    "            heads_count += 1\n",
    "        else:\n",
    "            tails_count += 1\n",
    "    return heads_count, tails_count\n",
    "if __name__ == \"__main__\":\n",
    "    num_flips = 1000  #This is the number of coin flips you want to simulate\n",
    "    heads, tails = coin_flip_simulation(num_flips)\n",
    "    print(\"Number of Heads: \"+ str(heads))\n",
    "    print(\"Number of Tails: \" + str(tails))\n",
    "    print(\"Heads Probability: \"+ {heads / num_flips:.2%})\n",
    "    print(\"Tails Probability: \"+ {tails / num_flips:.2%})"
   ]
  },
  {
   "cell_type": "markdown",
   "metadata": {},
   "source": [
    "## Popcorn Hack #1\n",
    "Simulate how long an object will fall for, with imputed variables for height droped and mass or object. "
   ]
  },
  {
   "cell_type": "code",
   "execution_count": null,
   "metadata": {},
   "outputs": [],
   "source": [
    "import math\n",
    "\n",
    "# Constants\n",
    "G = 9.81  # Acceleration due to gravity (m/s^2)\n",
    "\n"
   ]
  }
 ],
 "metadata": {
  "kernelspec": {
   "display_name": "Python 3",
   "language": "python",
   "name": "python3"
  },
  "language_info": {
   "codemirror_mode": {
    "name": "ipython",
    "version": 3
   },
   "file_extension": ".py",
   "mimetype": "text/x-python",
   "name": "python",
   "nbconvert_exporter": "python",
   "pygments_lexer": "ipython3",
   "version": "3.10.12"
  },
  "orig_nbformat": 4
 },
 "nbformat": 4,
 "nbformat_minor": 2
}
