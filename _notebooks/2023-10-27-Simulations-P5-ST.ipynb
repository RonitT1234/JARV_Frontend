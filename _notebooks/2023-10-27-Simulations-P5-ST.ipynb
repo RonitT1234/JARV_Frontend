{
 "cells": [
  {
   "cell_type": "markdown",
   "metadata": {},
   "source": [
    "---\n",
    "comments: true\n",
    "layout: post\n",
    "title: Simulations - Student Teach\n",
    "description: Student Lesson\n",
    "type: hacks\n",
    "courses: { compsci: {week: 8} }\n",
    "---"
   ]
  },
  {
   "cell_type": "markdown",
   "metadata": {},
   "source": [
    "## Simulations \n",
    "A simulation is the use of a computer software to represent the dynamic responses of one system by the behaviour of another system modeled after it. A simulation uses a mathematical descriptions, or models, of a real system in the form of a computer program."
   ]
  },
  {
   "cell_type": "markdown",
   "metadata": {},
   "source": [
    "![ghj](https://www.simscale.com/wp-content/uploads/2022/11/dron-quadcopter-simulation.png)"
   ]
  },
  {
   "cell_type": "markdown",
   "metadata": {},
   "source": [
    "## College Board Essential Knowledge\n",
    "- Simulations can contain bias from real world elements, that were chosen to be included or excluded\n",
    "- Simulations work best when the real world experemnts are too impractical or time consuming. For example, simulating how different cars behave when they crash, would be much better than crashng actual cars in the real world, which would be expensive and dangerous.\n",
    "- They help formulate and refine hypotheses about the objects or phenomena under consideration."
   ]
  },
  {
   "cell_type": "markdown",
   "metadata": {},
   "source": [
    "Simulations are simplified representations of complex phenomena for specific purposes.\n",
    "\n",
    "Simulations use varying sets of values to reflect changes in the state of a phenomenon.\n",
    "\n",
    "They mimic real-world events, allowing us to investigate and draw inferences without real-world constraints.\n",
    "\n",
    "Developing simulations involves simplifying or abstracting real-world details.\n",
    "\n",
    "Simulations may contain bias from choices made regarding what to include or exclude.\n",
    "\n",
    "Simulations are valuable when real-world experiments are impractical or dangerous."
   ]
  },
  {
   "cell_type": "markdown",
   "metadata": {},
   "source": [
    "## Algorithms\n",
    "Simulations utilize algorithms and equations to perform their service"
   ]
  },
  {
   "cell_type": "markdown",
   "metadata": {},
   "source": [
    "## Random\n",
    "- \"Random\" is a built-in python function that allow the user to draw a random value from a set range.\n",
    "- A Random Number Generator (RNG) is a simple simulation that selects a value from an array.\n",
    "- The following code cell utilizes \"random\" to select a number from 1 to 100."
   ]
  },
  {
   "cell_type": "code",
   "execution_count": 4,
   "metadata": {},
   "outputs": [
    {
     "name": "stdout",
     "output_type": "stream",
     "text": [
      "65\n"
     ]
    }
   ],
   "source": [
    "import random\n",
    "\n",
    "random_number = random.randint(1, 100)\n",
    "\n",
    "print(random_number)"
   ]
  },
  {
   "cell_type": "markdown",
   "metadata": {},
   "source": [
    "## More complex usage of \"random\"; Coin Toss Simulation"
   ]
  },
  {
   "cell_type": "code",
   "execution_count": 2,
   "metadata": {},
   "outputs": [
    {
     "name": "stdout",
     "output_type": "stream",
     "text": [
      "Number of Heads: 511\n",
      "Number of Tails: 489\n",
      "Heads Probability: 51.10%\n",
      "Tails Probability: 48.90%\n"
     ]
    }
   ],
   "source": [
    "import random\n",
    "def flip_coin():\n",
    "    return random.choice([\"Heads\", \"Tails\"])\n",
    "def coin_flip_simulation(num_flips):\n",
    "    heads_count = 0\n",
    "    tails_count = 0\n",
    "    for _ in range(num_flips):\n",
    "        result = flip_coin()\n",
    "        if result == \"Heads\":\n",
    "            heads_count += 1\n",
    "        else:\n",
    "            tails_count += 1\n",
    "    return heads_count, tails_count\n",
    "if __name__ == \"__main__\":\n",
    "    num_flips = 1000  #This is the number of coin flips you want to simulate\n",
    "    heads, tails = coin_flip_simulation(num_flips)\n",
    "    print(\"Number of Heads: \"+ str(heads))\n",
    "    print(\"Number of Tails: \" + str(tails))\n",
    "    print(\"Heads Probability: \"+ {heads / num_flips:.2%})\n",
    "    print(\"Tails Probability: \"+ {tails / num_flips:.2%})"
   ]
  },
  {
   "cell_type": "markdown",
   "metadata": {},
   "source": [
    "### Usage of \"random\" to print random food from the list of foods that the user provides"
   ]
  },
  {
   "cell_type": "markdown",
   "metadata": {},
   "source": [
    "Pseudo Code"
   ]
  },
  {
   "cell_type": "code",
   "execution_count": null,
   "metadata": {},
   "outputs": [],
   "source": [
    "# Create an empty list to hold favorite foods\n",
    "favorite_foods = []\n",
    "\n",
    "# Ask the user for their five favorite foods\n",
    "FOR i in range(5):\n",
    "    DISPLAY \"Enter your favorite food #\" + (i + 1) + \": \"\n",
    "    food = USER_INPUT()\n",
    "    favorite_foods.APPEND(food)\n",
    "\n",
    "# Import the 'random' module to randomize list\n",
    "IMPORT 'random'\n",
    "\n",
    "# Pick a random food from the list\n",
    "random_food = 'random.choice'(favorite_foods)\n",
    "\n",
    "# Show the randomly selected food\n",
    "DISPLAY \"One of your favorite foods is: \" + random_food\n",
    "\n",
    "# Print the randomly selected food\n",
    "DISPLAY \"One of your favorite foods is: \" + random_food"
   ]
  },
  {
   "cell_type": "markdown",
   "metadata": {},
   "source": [
    "Python Code"
   ]
  },
  {
   "cell_type": "code",
   "execution_count": 2,
   "metadata": {},
   "outputs": [
    {
     "name": "stdout",
     "output_type": "stream",
     "text": [
      "['Pasta', 'Steak', 'Burger', 'Fries', 'Chicken']\n",
      "One of your favorite foods is: Fries\n"
     ]
    }
   ],
   "source": [
    "# Initialize an empty list to store favorite foods\n",
    "favorite_foods = []\n",
    "\n",
    "# Ask the user to input their five favorite foods\n",
    "for i in range(5):\n",
    "    food = input(f\"Enter your favorite food #{i + 1}: \")\n",
    "    favorite_foods.append(food)\n",
    "print (favorite_foods)\n",
    "# Import the 'random' module to generate random indices\n",
    "import random\n",
    "\n",
    "# Use 'random.choice()' to select a random food from the list\n",
    "random_food = random.choice(favorite_foods)\n",
    "\n",
    "# Print the randomly selected food\n",
    "print(\"One of your favorite foods is: \" + str(random_food))"
   ]
  },
  {
   "cell_type": "markdown",
   "metadata": {},
   "source": [
    "## Popcorn hack #1\n",
    "\n",
    "Ask the user to prompt you with a range of a list. Then, ask the user to add numbers to a list with the range the provided. Finally, use \"random\" to select a random value from the list. \n"
   ]
  },
  {
   "cell_type": "code",
   "execution_count": null,
   "metadata": {},
   "outputs": [],
   "source": [
    "import random\n",
    "# Code here"
   ]
  },
  {
   "cell_type": "markdown",
   "metadata": {},
   "source": [
    "## Mathamtics \n",
    "- Simulations can also proove very useful in mathematical situations. For example, you can use simulations to determine how long an object will fall for"
   ]
  },
  {
   "cell_type": "code",
   "execution_count": null,
   "metadata": {},
   "outputs": [],
   "source": []
  },
  {
   "cell_type": "markdown",
   "metadata": {},
   "source": [
    "## Popcorn Hack #2\n",
    "Simulate how long an object will fall for, with imputed variables for height droped and mass or object. "
   ]
  },
  {
   "cell_type": "code",
   "execution_count": null,
   "metadata": {},
   "outputs": [],
   "source": [
    "import math\n",
    "\n",
    "# Constants\n",
    "G = 9.81  # Acceleration due to gravity (m/s^2)\n",
    "\n"
   ]
  }
 ],
 "metadata": {
  "kernelspec": {
   "display_name": "Python 3",
   "language": "python",
   "name": "python3"
  },
  "language_info": {
   "codemirror_mode": {
    "name": "ipython",
    "version": 3
   },
   "file_extension": ".py",
   "mimetype": "text/x-python",
   "name": "python",
   "nbconvert_exporter": "python",
   "pygments_lexer": "ipython3",
   "version": "3.10.12"
  },
  "orig_nbformat": 4
 },
 "nbformat": 4,
 "nbformat_minor": 2
}
